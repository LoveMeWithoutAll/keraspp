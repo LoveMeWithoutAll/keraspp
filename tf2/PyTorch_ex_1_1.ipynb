{
 "cells": [
  {
   "cell_type": "markdown",
   "metadata": {},
   "source": [
    "## PyTorch Implementation"
   ]
  },
  {
   "cell_type": "markdown",
   "metadata": {},
   "source": [
    "### Simple version"
   ]
  },
  {
   "cell_type": "code",
   "execution_count": 1,
   "metadata": {},
   "outputs": [
    {
     "name": "stdout",
     "output_type": "stream",
     "text": [
      "[[1.0062771]\n",
      " [2.9965625]\n",
      " [4.986848 ]\n",
      " [6.9771333]\n",
      " [8.967419 ]]\n"
     ]
    }
   ],
   "source": [
    "import torch\n",
    "import numpy as np\n",
    "\n",
    "x = np.array([0, 1, 2, 3, 4]).astype('float32').reshape(-1,1) \n",
    "y = x * 2 + 1\n",
    "\n",
    "class Model(torch.nn.Module):\n",
    "    def __init__(self):\n",
    "        super(Model,self).__init__()\n",
    "        self.layer = torch.nn.Linear(1,1)\n",
    "    def forward(self, x):\n",
    "        return self.layer(x)\n",
    "model = Model()\n",
    "Optimizer = torch.optim.Adam(model.parameters(), lr=0.01)\n",
    "\n",
    "for epoch in range(1000):\n",
    "    x_tr = torch.from_numpy(x[:2,:1]).type(torch.FloatTensor)\n",
    "    y_tr = torch.from_numpy(y[:2,:1]).type(torch.FloatTensor)\n",
    "    y_pr = model(x_tr)\n",
    "    loss = torch.pow(torch.abs(y_tr - y_pr),2)\n",
    "    Optimizer.zero_grad()\n",
    "    torch.sum(loss).backward()\n",
    "    Optimizer.step()\n",
    "print(model(torch.from_numpy(x).type(torch.FloatTensor)).detach().numpy())"
   ]
  },
  {
   "cell_type": "markdown",
   "metadata": {},
   "source": [
    "### Detail version with monitoring variables"
   ]
  },
  {
   "cell_type": "code",
   "execution_count": 2,
   "metadata": {},
   "outputs": [
    {
     "name": "stdout",
     "output_type": "stream",
     "text": [
      "w= [[0.93893766]]\n",
      "b= [0.509961]\n",
      "\n",
      "Epoch:0\n",
      "y_pr: [[0.509961 ]\n",
      " [1.4488987]]\n",
      "y_tr: [[1.]\n",
      " [3.]]\n",
      "loss: [[0.24013822]\n",
      " [2.4059153 ]]\n",
      "\n",
      "Epoch:1\n",
      "y_pr: [[0.519961 ]\n",
      " [1.4688987]]\n",
      "y_tr: [[1.]\n",
      " [3.]]\n",
      "loss: [[0.23043744]\n",
      " [2.3442714 ]]\n",
      "\n",
      "Epoch:2\n",
      "y_pr: [[0.5299569]\n",
      " [1.4888909]]\n",
      "y_tr: [[1.]\n",
      " [3.]]\n",
      "loss: [[0.22094053]\n",
      " [2.2834508 ]]\n",
      "\n",
      "[[1.000002 ]\n",
      " [2.999999 ]\n",
      " [4.999996 ]\n",
      " [6.9999933]\n",
      " [8.99999  ]]\n"
     ]
    }
   ],
   "source": [
    "import torch\n",
    "import numpy as np\n",
    "\n",
    "x = np.array([0, 1, 2, 3, 4]).astype('float32').reshape(-1,1) \n",
    "y = x * 2 + 1\n",
    "\n",
    "class Model(torch.nn.Module):\n",
    "    def __init__(self):\n",
    "        super(Model,self).__init__()\n",
    "        self.layer = torch.nn.Linear(1,1)\n",
    "    def forward(self, x):\n",
    "        return self.layer(x)\n",
    "model = Model()\n",
    "Optimizer = torch.optim.Adam(model.parameters(), lr=0.01)\n",
    "\n",
    "print('w=', list(model.parameters())[0].detach().numpy())\n",
    "print('b=', list(model.parameters())[1].detach().numpy())\n",
    "print()\n",
    "\n",
    "for epoch in range(1000):\n",
    "    x_tr = torch.from_numpy(x[:2,:1]).type(torch.FloatTensor)\n",
    "    y_tr = torch.from_numpy(y[:2,:1]).type(torch.FloatTensor)\n",
    "    y_pr = model(x_tr)\n",
    "    loss = torch.pow(torch.abs(y_tr - y_pr),2)\n",
    "    if epoch < 3:\n",
    "        print(f'Epoch:{epoch}')\n",
    "        print('y_pr:', y_pr.detach().numpy())\n",
    "        print('y_tr:', y[:2,:1])\n",
    "        print('loss:', loss.detach().numpy())\n",
    "        print()\n",
    "    Optimizer.zero_grad()\n",
    "    torch.sum(loss).backward()\n",
    "    Optimizer.step()\n",
    "print(model(torch.from_numpy(x).type(torch.FloatTensor)).detach().numpy())"
   ]
  },
  {
   "cell_type": "code",
   "execution_count": null,
   "metadata": {},
   "outputs": [],
   "source": []
  }
 ],
 "metadata": {
  "kernelspec": {
   "display_name": "pytorch",
   "language": "python",
   "name": "pytorch"
  },
  "language_info": {
   "codemirror_mode": {
    "name": "ipython",
    "version": 3
   },
   "file_extension": ".py",
   "mimetype": "text/x-python",
   "name": "python",
   "nbconvert_exporter": "python",
   "pygments_lexer": "ipython3",
   "version": "3.7.3"
  }
 },
 "nbformat": 4,
 "nbformat_minor": 4
}
