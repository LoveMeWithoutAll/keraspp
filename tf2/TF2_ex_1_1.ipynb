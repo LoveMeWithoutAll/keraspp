{
 "cells": [
  {
   "cell_type": "markdown",
   "metadata": {},
   "source": [
    "## Keras in Tensorflow 2.0"
   ]
  },
  {
   "cell_type": "code",
   "execution_count": 4,
   "metadata": {},
   "outputs": [
    {
     "name": "stdout",
     "output_type": "stream",
     "text": [
      "[[1.0055643]\n",
      " [2.996561 ]\n",
      " [4.9875574]\n",
      " [6.9785542]\n",
      " [8.969551 ]]\n"
     ]
    }
   ],
   "source": [
    "from tensorflow import keras\n",
    "\n",
    "import numpy\n",
    "\n",
    "x = numpy.array([0, 1, 2, 3, 4]) \n",
    "y = x * 2 + 1\n",
    "\n",
    "model = keras.models.Sequential()\n",
    "model.add(keras.layers.Dense(1,input_shape=(1,)))\n",
    "model.compile('SGD', 'mse')\n",
    "\n",
    "model.fit(x[:2], y[:2], epochs=1000, verbose=0)\n",
    "print(model.predict(x))"
   ]
  },
  {
   "cell_type": "markdown",
   "metadata": {},
   "source": [
    "## Tensorflow 2.0 with Keras IO"
   ]
  },
  {
   "cell_type": "code",
   "execution_count": 5,
   "metadata": {},
   "outputs": [
    {
     "name": "stdout",
     "output_type": "stream",
     "text": [
      "[[0.9999965]\n",
      " [3.0000026]\n",
      " [5.000009 ]\n",
      " [7.0000153]\n",
      " [9.000021 ]]\n"
     ]
    }
   ],
   "source": [
    "import tensorflow as tf2\n",
    "\n",
    "import numpy as np\n",
    "\n",
    "x = np.array([0, 1, 2, 3, 4]).astype('float32').reshape(-1,1) \n",
    "y = x * 2 + 1\n",
    "\n",
    "model = tf2.keras.Sequential()\n",
    "model.add(tf2.keras.layers.Dense(1, input_dim = 1))\n",
    "model.build()\n",
    "\n",
    "Optimizer = tf2.keras.optimizers.Adam(learning_rate = 0.01)\n",
    "for epoch in range(1000):\n",
    "    with tf2.GradientTape() as tape:\n",
    "        y_pr = model(x[:2,:1])\n",
    "        loss = tf2.keras.losses.mean_squared_error(y[:2,:1], y_pr)\n",
    "    gradients = tape.gradient(loss, model.trainable_variables)\n",
    "    Optimizer.apply_gradients(zip(gradients, model.trainable_variables))\n",
    "print(model.predict(x))"
   ]
  },
  {
   "cell_type": "code",
   "execution_count": null,
   "metadata": {},
   "outputs": [],
   "source": []
  }
 ],
 "metadata": {
  "kernelspec": {
   "display_name": "tf2",
   "language": "python",
   "name": "tf2"
  },
  "language_info": {
   "codemirror_mode": {
    "name": "ipython",
    "version": 3
   },
   "file_extension": ".py",
   "mimetype": "text/x-python",
   "name": "python",
   "nbconvert_exporter": "python",
   "pygments_lexer": "ipython3",
   "version": "3.7.4"
  }
 },
 "nbformat": 4,
 "nbformat_minor": 4
}
