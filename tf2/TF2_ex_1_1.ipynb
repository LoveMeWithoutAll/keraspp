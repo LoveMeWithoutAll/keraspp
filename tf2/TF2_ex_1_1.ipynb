{
 "cells": [
  {
   "cell_type": "markdown",
   "metadata": {},
   "source": [
    "## Keras in Tensorflow 2.0"
   ]
  },
  {
   "cell_type": "code",
   "execution_count": 1,
   "metadata": {},
   "outputs": [
    {
     "name": "stdout",
     "output_type": "stream",
     "text": [
      "[[1.000948]\n",
      " [2.999414]\n",
      " [4.99788 ]\n",
      " [6.996346]\n",
      " [8.994812]]\n"
     ]
    }
   ],
   "source": [
    "from tensorflow import keras\n",
    "\n",
    "import numpy\n",
    "\n",
    "x = numpy.array([0, 1, 2, 3, 4]) \n",
    "y = x * 2 + 1\n",
    "\n",
    "model = keras.models.Sequential()\n",
    "model.add(keras.layers.Dense(1,input_shape=(1,)))\n",
    "model.compile('SGD', 'mse')\n",
    "\n",
    "model.fit(x[:2], y[:2], epochs=1000, verbose=0)\n",
    "print(model.predict(x))"
   ]
  },
  {
   "cell_type": "markdown",
   "metadata": {},
   "source": [
    "## Tensorflow 2.0 with Keras IO"
   ]
  },
  {
   "cell_type": "markdown",
   "metadata": {},
   "source": [
    "### Simple version"
   ]
  },
  {
   "cell_type": "code",
   "execution_count": 2,
   "metadata": {},
   "outputs": [
    {
     "name": "stdout",
     "output_type": "stream",
     "text": [
      "[[1.0032865]\n",
      " [2.9982057]\n",
      " [4.9931245]\n",
      " [6.988044 ]\n",
      " [8.982963 ]]\n"
     ]
    }
   ],
   "source": [
    "import tensorflow as tf2\n",
    "\n",
    "import numpy as np\n",
    "\n",
    "x = np.array([0, 1, 2, 3, 4]).astype('float32').reshape(-1,1) \n",
    "y = x * 2 + 1\n",
    "\n",
    "model = tf2.keras.Sequential()\n",
    "model.add(tf2.keras.layers.Dense(1, input_dim = 1))\n",
    "model.build()\n",
    "\n",
    "Optimizer = tf2.keras.optimizers.Adam(learning_rate = 0.01)\n",
    "for epoch in range(1000):\n",
    "    with tf2.GradientTape() as tape:\n",
    "        y_pr = model(x[:2,:1])\n",
    "        loss = tf2.keras.losses.mean_squared_error(y[:2,:1], y_pr)\n",
    "    gradients = tape.gradient(loss, model.trainable_variables)\n",
    "    Optimizer.apply_gradients(zip(gradients, model.trainable_variables))\n",
    "\n",
    "print(model.predict(x))"
   ]
  },
  {
   "cell_type": "markdown",
   "metadata": {},
   "source": [
    "### Detail version with monitoring variables"
   ]
  },
  {
   "cell_type": "code",
   "execution_count": 3,
   "metadata": {},
   "outputs": [
    {
     "name": "stdout",
     "output_type": "stream",
     "text": [
      "w= [[-0.9424849]] b= [0.]\n",
      "\n",
      "Epoch:0\n",
      "y_pr: [[ 0.       ]\n",
      " [-0.9424849]]\n",
      "y_tr: [[1.]\n",
      " [3.]]\n",
      "loss: [ 1.       15.543187]\n",
      "\n",
      "Epoch:1\n",
      "y_pr: [[ 0.01      ]\n",
      " [-0.92248493]]\n",
      "y_tr: [[1.]\n",
      " [3.]]\n",
      "loss: [ 0.98010004 15.385887  ]\n",
      "\n",
      "Epoch:2\n",
      "y_pr: [[ 0.01999833]\n",
      " [-0.902488  ]]\n",
      "y_tr: [[1.]\n",
      " [3.]]\n",
      "loss: [ 0.9604033 15.229412 ]\n",
      "\n",
      "[[1.0694708]\n",
      " [2.9587076]\n",
      " [4.8479443]\n",
      " [6.737181 ]\n",
      " [8.626418 ]]\n"
     ]
    }
   ],
   "source": [
    "import tensorflow as tf2\n",
    "\n",
    "import numpy as np\n",
    "\n",
    "x = np.array([0, 1, 2, 3, 4]).astype('float32').reshape(-1,1) \n",
    "y = x * 2 + 1\n",
    "\n",
    "model = tf2.keras.Sequential()\n",
    "model.add(tf2.keras.layers.Dense(1, input_dim = 1))\n",
    "model.build()\n",
    "\n",
    "print('w=', model.trainable_variables[0].numpy(), 'b=', model.trainable_variables[1].numpy())\n",
    "print()\n",
    "\n",
    "Optimizer = tf2.keras.optimizers.Adam(learning_rate = 0.01)\n",
    "for epoch in range(1000):\n",
    "    with tf2.GradientTape() as tape:\n",
    "        y_pr = model(x[:2,:1])\n",
    "        loss = tf2.keras.losses.mean_squared_error(y[:2,:1], y_pr)\n",
    "        if epoch < 3: \n",
    "            print(f'Epoch:{epoch}')\n",
    "            print('y_pr:', y_pr.numpy())\n",
    "            print('y_tr:', y[:2,:1])\n",
    "            print('loss:', loss.numpy())\n",
    "            print()\n",
    "    gradients = tape.gradient(loss, model.trainable_variables)\n",
    "    Optimizer.apply_gradients(zip(gradients, model.trainable_variables))\n",
    "print(model.predict(x))"
   ]
  },
  {
   "cell_type": "code",
   "execution_count": null,
   "metadata": {},
   "outputs": [],
   "source": []
  }
 ],
 "metadata": {
  "kernelspec": {
   "display_name": "tf2",
   "language": "python",
   "name": "tf2"
  },
  "language_info": {
   "codemirror_mode": {
    "name": "ipython",
    "version": 3
   },
   "file_extension": ".py",
   "mimetype": "text/x-python",
   "name": "python",
   "nbconvert_exporter": "python",
   "pygments_lexer": "ipython3",
   "version": "3.7.4"
  }
 },
 "nbformat": 4,
 "nbformat_minor": 4
}
