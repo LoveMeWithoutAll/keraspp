{
 "cells": [
  {
   "cell_type": "markdown",
   "metadata": {},
   "source": [
    "# Ex 1-1 by Chainer\n",
    "- https://docs.chainer.org/en/stable/examples/mnist.html\n",
    "- https://github.com/kose/chainer-linear-regression/blob/master/net.py\n",
    "- https://multithreaded.stitchfix.com/blog/2015/12/09/intro-to-chainer/"
   ]
  },
  {
   "cell_type": "markdown",
   "metadata": {},
   "source": [
    "Chainer는 모델을 만들 때, 케라스나 파이토치하고 다른 형태로 만든다. 예제 1-1은 단일 노드로 구성된 단일 계층 네트웍을 다루고 있기 때문에 Linear(1,1)로 뉴럴넷을 모델링했다. 복수 계층을 가지는 경우는 다른 형태로 모델링을 구성해야 한다."
   ]
  },
  {
   "cell_type": "code",
   "execution_count": 88,
   "metadata": {},
   "outputs": [
    {
     "data": {
      "text/plain": [
       "variable([[0.999104 ],\n",
       "          [2.9994187],\n",
       "          [4.9997334],\n",
       "          [7.000048 ],\n",
       "          [9.000362 ]])"
      ]
     },
     "execution_count": 88,
     "metadata": {},
     "output_type": "execute_result"
    }
   ],
   "source": [
    "import chainer\n",
    "\n",
    "import numpy as np\n",
    "\n",
    "x = np.array([0, 1, 2, 3, 4]).astype('float32').reshape(-1,1) \n",
    "y = x * 2 + 1\n",
    "\n",
    "model = chainer.links.Linear(1,1)\n",
    "optimizer = chainer.optimizers.SGD()\n",
    "optimizer.setup(model)\n",
    "\n",
    "for _ in range(1000):\n",
    "    output = model(x)\n",
    "    loss = chainer.functions.mean_squared_error(y, output)\n",
    "    model.zerograds()\n",
    "    loss.backward()\n",
    "    optimizer.update()\n",
    "\n",
    "model(x)"
   ]
  },
  {
   "cell_type": "code",
   "execution_count": null,
   "metadata": {},
   "outputs": [],
   "source": []
  }
 ],
 "metadata": {
  "kernelspec": {
   "display_name": "chainer",
   "language": "python",
   "name": "chainer"
  },
  "language_info": {
   "codemirror_mode": {
    "name": "ipython",
    "version": 3
   },
   "file_extension": ".py",
   "mimetype": "text/x-python",
   "name": "python",
   "nbconvert_exporter": "python",
   "pygments_lexer": "ipython3",
   "version": "3.7.5"
  }
 },
 "nbformat": 4,
 "nbformat_minor": 4
}
