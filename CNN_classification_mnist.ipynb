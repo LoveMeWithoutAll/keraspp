{
  "nbformat": 4,
  "nbformat_minor": 0,
  "metadata": {
    "colab": {
      "name": "CNN_classification_mnist.ipynb",
      "provenance": [],
      "authorship_tag": "ABX9TyN1AeHdUPBFjmd4Pt4kSJuI",
      "include_colab_link": true
    },
    "kernelspec": {
      "name": "python3",
      "display_name": "Python 3"
    },
    "accelerator": "GPU"
  },
  "cells": [
    {
      "cell_type": "markdown",
      "metadata": {
        "id": "view-in-github",
        "colab_type": "text"
      },
      "source": [
        "<a href=\"https://colab.research.google.com/github/LoveMeWithoutAll/keraspp/blob/feature%2Fstudy-ch04/CNN_classification_mnist.ipynb\" target=\"_parent\"><img src=\"https://colab.research.google.com/assets/colab-badge.svg\" alt=\"Open In Colab\"/></a>"
      ]
    },
    {
      "cell_type": "code",
      "metadata": {
        "id": "Jei1BIlAdfFA",
        "colab_type": "code",
        "outputId": "5e695c55-5209-4f4a-d11c-b7f557527130",
        "colab": {
          "base_uri": "https://localhost:8080/",
          "height": 80
        }
      },
      "source": [
        "import keras\n",
        "from keras import layers, models\n",
        "\n",
        "class CNN(models.Sequential):\n",
        "  def __init__(self, input_shape, num_classes):\n",
        "    super().__init__()\n",
        "\n",
        "    self.add(layers.Conv2D(32, kernel_size=(3,3), activation='relu', input_shape=input_shape))\n",
        "    self.add(layers.Conv2D(64, kernel_size=(3,3), activation='relu'))\n",
        "    self.add(layers.MaxPooling2D(pool_size=(2,2)))\n",
        "    self.add(layers.Dropout(0.25))\n",
        "    \n",
        "    self.add(layers.Flatten())\n",
        "\n",
        "    self.add(layers.Dense(128, activation='relu'))\n",
        "    self.add(layers.Dropout(0.5))\n",
        "    self.add(layers.Dense(num_classes, activation='softmax'))\n",
        "\n",
        "    self.compile(loss=keras.losses.categorical_crossentropy, optimizer=keras.optimizers.Adadelta(), metrics=['accuracy'])"
      ],
      "execution_count": 0,
      "outputs": [
        {
          "output_type": "stream",
          "text": [
            "Using TensorFlow backend.\n"
          ],
          "name": "stderr"
        },
        {
          "output_type": "display_data",
          "data": {
            "text/html": [
              "<p style=\"color: red;\">\n",
              "The default version of TensorFlow in Colab will soon switch to TensorFlow 2.x.<br>\n",
              "We recommend you <a href=\"https://www.tensorflow.org/guide/migrate\" target=\"_blank\">upgrade</a> now \n",
              "or ensure your notebook will continue to use TensorFlow 1.x via the <code>%tensorflow_version 1.x</code> magic:\n",
              "<a href=\"https://colab.research.google.com/notebooks/tensorflow_version.ipynb\" target=\"_blank\">more info</a>.</p>\n"
            ],
            "text/plain": [
              "<IPython.core.display.HTML object>"
            ]
          },
          "metadata": {
            "tags": []
          }
        }
      ]
    },
    {
      "cell_type": "code",
      "metadata": {
        "id": "k_zuRiczlbd8",
        "colab_type": "code",
        "colab": {}
      },
      "source": [
        "from keras import datasets\n",
        "from keras import backend\n",
        "\n",
        "class DATA():\n",
        "  def __init__(self):\n",
        "    num_classes = 10\n",
        "    (x_train, y_train), (x_test, y_test) = datasets.mnist.load_data()\n",
        "    img_rows, img_cols = x_train.shape[1:]\n",
        "    if backend.image_data_format() == 'channels_first':\n",
        "      x_train = x_train.reshape(x_train.shape[0], 1, img_rows, img_cols)\n",
        "      x_test = x_test.reshape(x_test.shape[0], 1, img_rows, img_cols)\n",
        "      input_shape = (1, img_rows, img_cols)\n",
        "    else:\n",
        "      x_train = x_train.reshape(x_train.shape[0], img_rows, img_cols, 1)\n",
        "      x_test = x_test.reshape(x_test.shape[0], img_rows, img_cols, 1)\n",
        "      input_shape = (img_rows, img_cols, 1)\n",
        "\n",
        "    x_train = x_train.astype('float32')\n",
        "    x_test = x_test.astype('float32')\n",
        "    x_train /= 255\n",
        "    x_test /= 255\n",
        "\n",
        "    y_train = keras.utils.to_categorical(y_train, num_classes=num_classes)\n",
        "    y_test = keras.utils.to_categorical(y_test, num_classes=num_classes)\n",
        "\n",
        "    self.input_shape = input_shape\n",
        "    self.num_classes = num_classes\n",
        "    self.x_train, self.y_train = x_train, y_train\n",
        "    self.x_test, self.y_test = x_test, y_test"
      ],
      "execution_count": 0,
      "outputs": []
    },
    {
      "cell_type": "code",
      "metadata": {
        "id": "1TuN22XuvtbR",
        "colab_type": "code",
        "colab": {}
      },
      "source": [
        "import matplotlib.pyplot as plt\n",
        "\n",
        "def plot_acc(history, title=None):\n",
        "    # summarize history for accuracy\n",
        "    if not isinstance(history, dict):\n",
        "        history = history.history\n",
        "\n",
        "    plt.plot(history['acc'])\n",
        "    plt.plot(history['val_acc'])\n",
        "    if title is not None:\n",
        "        plt.title(title)\n",
        "    plt.ylabel('Accracy')\n",
        "    plt.xlabel('Epoch')\n",
        "    plt.legend(['Training data', 'Validation data'], loc=0)\n",
        "    # plt.show()\n",
        "\n",
        "\n",
        "def plot_loss(history, title=None):\n",
        "    # summarize history for loss\n",
        "    if not isinstance(history, dict):\n",
        "        history = history.history\n",
        "\n",
        "    plt.plot(history['loss'])\n",
        "    plt.plot(history['val_loss'])\n",
        "    if title is not None:\n",
        "        plt.title(title)\n",
        "    plt.ylabel('Loss')\n",
        "    plt.xlabel('Epoch')\n",
        "    plt.legend(['Training data', 'Validation data'], loc=0)\n",
        "    # plt.show()"
      ],
      "execution_count": 0,
      "outputs": []
    },
    {
      "cell_type": "code",
      "metadata": {
        "id": "N0YO7jWDwlEg",
        "colab_type": "code",
        "colab": {}
      },
      "source": [
        "def main():\n",
        "  batch_size = 128\n",
        "  epochs = 10\n",
        "\n",
        "  data = DATA()\n",
        "  model = CNN(data.input_shape, data.num_classes)\n",
        "\n",
        "  history = model.fit(data.x_train, data.y_train, batch_size=batch_size, epochs=epochs, validation_split=0.2)\n",
        "\n",
        "  score = model.evaluate(data.x_test, data.y_test)\n",
        "  print()\n",
        "  print('Test Loss', score[0])\n",
        "  print('Test Accuracy', score[1])\n",
        "\n",
        "  plot_acc(history)\n",
        "  plt.show()\n",
        "\n",
        "  plot_loss(history)\n",
        "  plt.show()"
      ],
      "execution_count": 0,
      "outputs": []
    },
    {
      "cell_type": "code",
      "metadata": {
        "id": "PLBkV_tEyuCX",
        "colab_type": "code",
        "outputId": "7039c93f-181d-4bb6-c158-212ec56e97e2",
        "colab": {
          "base_uri": "https://localhost:8080/",
          "height": 1000
        }
      },
      "source": [
        "if __name__ =='__main__':\n",
        "  main()"
      ],
      "execution_count": 0,
      "outputs": [
        {
          "output_type": "stream",
          "text": [
            "WARNING:tensorflow:From /usr/local/lib/python3.6/dist-packages/keras/backend/tensorflow_backend.py:66: The name tf.get_default_graph is deprecated. Please use tf.compat.v1.get_default_graph instead.\n",
            "\n",
            "WARNING:tensorflow:From /usr/local/lib/python3.6/dist-packages/keras/backend/tensorflow_backend.py:541: The name tf.placeholder is deprecated. Please use tf.compat.v1.placeholder instead.\n",
            "\n",
            "WARNING:tensorflow:From /usr/local/lib/python3.6/dist-packages/keras/backend/tensorflow_backend.py:4432: The name tf.random_uniform is deprecated. Please use tf.random.uniform instead.\n",
            "\n",
            "WARNING:tensorflow:From /usr/local/lib/python3.6/dist-packages/keras/backend/tensorflow_backend.py:4267: The name tf.nn.max_pool is deprecated. Please use tf.nn.max_pool2d instead.\n",
            "\n",
            "WARNING:tensorflow:From /usr/local/lib/python3.6/dist-packages/keras/backend/tensorflow_backend.py:148: The name tf.placeholder_with_default is deprecated. Please use tf.compat.v1.placeholder_with_default instead.\n",
            "\n",
            "WARNING:tensorflow:From /usr/local/lib/python3.6/dist-packages/keras/backend/tensorflow_backend.py:3733: calling dropout (from tensorflow.python.ops.nn_ops) with keep_prob is deprecated and will be removed in a future version.\n",
            "Instructions for updating:\n",
            "Please use `rate` instead of `keep_prob`. Rate should be set to `rate = 1 - keep_prob`.\n",
            "WARNING:tensorflow:From /usr/local/lib/python3.6/dist-packages/keras/optimizers.py:793: The name tf.train.Optimizer is deprecated. Please use tf.compat.v1.train.Optimizer instead.\n",
            "\n",
            "WARNING:tensorflow:From /usr/local/lib/python3.6/dist-packages/keras/backend/tensorflow_backend.py:3576: The name tf.log is deprecated. Please use tf.math.log instead.\n",
            "\n",
            "WARNING:tensorflow:From /usr/local/lib/python3.6/dist-packages/tensorflow_core/python/ops/math_grad.py:1424: where (from tensorflow.python.ops.array_ops) is deprecated and will be removed in a future version.\n",
            "Instructions for updating:\n",
            "Use tf.where in 2.0, which has the same broadcast rule as np.where\n",
            "WARNING:tensorflow:From /usr/local/lib/python3.6/dist-packages/keras/backend/tensorflow_backend.py:1033: The name tf.assign_add is deprecated. Please use tf.compat.v1.assign_add instead.\n",
            "\n",
            "WARNING:tensorflow:From /usr/local/lib/python3.6/dist-packages/keras/backend/tensorflow_backend.py:1020: The name tf.assign is deprecated. Please use tf.compat.v1.assign instead.\n",
            "\n",
            "WARNING:tensorflow:From /usr/local/lib/python3.6/dist-packages/keras/backend/tensorflow_backend.py:3005: The name tf.Session is deprecated. Please use tf.compat.v1.Session instead.\n",
            "\n",
            "Train on 48000 samples, validate on 12000 samples\n",
            "Epoch 1/10\n",
            "WARNING:tensorflow:From /usr/local/lib/python3.6/dist-packages/keras/backend/tensorflow_backend.py:190: The name tf.get_default_session is deprecated. Please use tf.compat.v1.get_default_session instead.\n",
            "\n",
            "WARNING:tensorflow:From /usr/local/lib/python3.6/dist-packages/keras/backend/tensorflow_backend.py:197: The name tf.ConfigProto is deprecated. Please use tf.compat.v1.ConfigProto instead.\n",
            "\n",
            "WARNING:tensorflow:From /usr/local/lib/python3.6/dist-packages/keras/backend/tensorflow_backend.py:207: The name tf.global_variables is deprecated. Please use tf.compat.v1.global_variables instead.\n",
            "\n",
            "WARNING:tensorflow:From /usr/local/lib/python3.6/dist-packages/keras/backend/tensorflow_backend.py:216: The name tf.is_variable_initialized is deprecated. Please use tf.compat.v1.is_variable_initialized instead.\n",
            "\n",
            "WARNING:tensorflow:From /usr/local/lib/python3.6/dist-packages/keras/backend/tensorflow_backend.py:223: The name tf.variables_initializer is deprecated. Please use tf.compat.v1.variables_initializer instead.\n",
            "\n",
            "48000/48000 [==============================] - 8s 157us/step - loss: 0.2991 - acc: 0.9074 - val_loss: 0.0675 - val_acc: 0.9806\n",
            "Epoch 2/10\n",
            "48000/48000 [==============================] - 4s 84us/step - loss: 0.0961 - acc: 0.9716 - val_loss: 0.0555 - val_acc: 0.9842\n",
            "Epoch 3/10\n",
            "48000/48000 [==============================] - 4s 84us/step - loss: 0.0703 - acc: 0.9790 - val_loss: 0.0441 - val_acc: 0.9876\n",
            "Epoch 4/10\n",
            "48000/48000 [==============================] - 4s 86us/step - loss: 0.0567 - acc: 0.9831 - val_loss: 0.0423 - val_acc: 0.9879\n",
            "Epoch 5/10\n",
            "48000/48000 [==============================] - 4s 85us/step - loss: 0.0486 - acc: 0.9849 - val_loss: 0.0415 - val_acc: 0.9884\n",
            "Epoch 6/10\n",
            "48000/48000 [==============================] - 4s 86us/step - loss: 0.0425 - acc: 0.9868 - val_loss: 0.0392 - val_acc: 0.9882\n",
            "Epoch 7/10\n",
            "48000/48000 [==============================] - 4s 85us/step - loss: 0.0393 - acc: 0.9878 - val_loss: 0.0380 - val_acc: 0.9892\n",
            "Epoch 8/10\n",
            "48000/48000 [==============================] - 4s 85us/step - loss: 0.0364 - acc: 0.9887 - val_loss: 0.0348 - val_acc: 0.9903\n",
            "Epoch 9/10\n",
            "48000/48000 [==============================] - 4s 86us/step - loss: 0.0331 - acc: 0.9898 - val_loss: 0.0364 - val_acc: 0.9891\n",
            "Epoch 10/10\n",
            "48000/48000 [==============================] - 4s 85us/step - loss: 0.0300 - acc: 0.9906 - val_loss: 0.0340 - val_acc: 0.9896\n",
            "10000/10000 [==============================] - 1s 56us/step\n",
            "\n",
            "Test Loss 0.027124311325674354\n",
            "Test Accuracy 0.9904\n"
          ],
          "name": "stdout"
        },
        {
          "output_type": "display_data",
          "data": {
            "image/png": "[encoded data removed]",
            "text/plain": [
              "<Figure size 432x288 with 1 Axes>"
            ]
          },
          "metadata": {
            "tags": []
          }
        },
        {
          "output_type": "display_data",
          "data": {
            "image/png": "[encoded data removed]",
            "text/plain": [
              "<Figure size 432x288 with 1 Axes>"
            ]
          },
          "metadata": {
            "tags": []
          }
        }
      ]
    }
  ]
}