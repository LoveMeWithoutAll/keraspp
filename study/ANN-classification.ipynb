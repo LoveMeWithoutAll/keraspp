{
  "nbformat": 4,
  "nbformat_minor": 0,
  "metadata": {
    "colab": {
      "name": "ANN_regression.ipynb",
      "provenance": [],
      "authorship_tag": "ABX9TyPrqiqyEr76Ziy/bwQCll56",
      "include_colab_link": true
    },
    "kernelspec": {
      "name": "python3",
      "display_name": "Python 3"
    },
    "accelerator": "TPU"
  },
  "cells": [
    {
      "cell_type": "markdown",
      "metadata": {
        "id": "view-in-github",
        "colab_type": "text"
      },
      "source": [
        "<a href=\"https://colab.research.google.com/github/LoveMeWithoutAll/keraspp/blob/feature%2Fch2_study/study/ANN_regression.ipynb\" target=\"_parent\"><img src=\"https://colab.research.google.com/assets/colab-badge.svg\" alt=\"Open In Colab\"/></a>"
      ]
    },
    {
      "cell_type": "code",
      "metadata": {
        "id": "tTe-3eBu24jH",
        "colab_type": "code",
        "colab": {
          "base_uri": "https://localhost:8080/",
          "height": 68
        },
        "outputId": "7bf614c1-476c-41c4-a2b1-39f7e4b34308"
      },
      "source": [
        "import numpy as np\n",
        "from keras import datasets\n",
        "from keras.utils import np_utils\n",
        "\n",
        "(X_train, y_train), (X_test, y_test) = datasets.mnist.load_data()"
      ],
      "execution_count": 2,
      "outputs": [
        {
          "output_type": "stream",
          "text": [
            "Using TensorFlow backend.\n"
          ],
          "name": "stderr"
        },
        {
          "output_type": "stream",
          "text": [
            "Downloading data from https://s3.amazonaws.com/img-datasets/mnist.npz\n",
            "11493376/11490434 [==============================] - 0s 0us/step\n"
          ],
          "name": "stdout"
        }
      ]
    },
    {
      "cell_type": "code",
      "metadata": {
        "id": "mQUZLbe3D9JM",
        "colab_type": "code",
        "colab": {}
      },
      "source": [
        "Y_train = np_utils.to_categorical(y_train)\n",
        "Y_test = np_utils.to_categorical(y_test)"
      ],
      "execution_count": 0,
      "outputs": []
    },
    {
      "cell_type": "code",
      "metadata": {
        "id": "vm4ZdM3QE0kG",
        "colab_type": "code",
        "colab": {}
      },
      "source": [
        "L, W, H = X_train.shape"
      ],
      "execution_count": 0,
      "outputs": []
    },
    {
      "cell_type": "code",
      "metadata": {
        "id": "mZoXVd6ME85y",
        "colab_type": "code",
        "colab": {}
      },
      "source": [
        "X_train = X_train.reshape(-1, W * H)\n",
        "X_test = X_test.reshape(-1, W * H)"
      ],
      "execution_count": 0,
      "outputs": []
    },
    {
      "cell_type": "code",
      "metadata": {
        "id": "Sowtlq_TFIiu",
        "colab_type": "code",
        "colab": {}
      },
      "source": [
        "X_train = X_train / 255.0\n",
        "X_test = X_test / 255.0"
      ],
      "execution_count": 0,
      "outputs": []
    },
    {
      "cell_type": "code",
      "metadata": {
        "id": "mpJB1DYEFb4x",
        "colab_type": "code",
        "colab": {}
      },
      "source": [
        "import matplotlib.pyplot as plt\n",
        "\n",
        "def plot_loss(history):\n",
        "  plt.plot(history.history['loss'])\n",
        "  plt.plot(history.history['val_loss'])\n",
        "  plt.title('Model Loss')\n",
        "  plt.ylabel('Loss')\n",
        "  plt.xlabel('Epoch')\n",
        "  plt.legend(['Train', 'Test'], loc=0)"
      ],
      "execution_count": 0,
      "outputs": []
    },
    {
      "cell_type": "code",
      "metadata": {
        "id": "lmZhNU7CGEGf",
        "colab_type": "code",
        "colab": {}
      },
      "source": [
        "def plot_acc(history):\n",
        "  plt.plot(history.history['acc'])\n",
        "  plt.plot(history.history['val_acc'])\n",
        "  plt.title('Model accuray')\n",
        "  plt.ylabel('Accuracy')\n",
        "  plt.xlabel('Epoch')\n",
        "  plt.legend(['Train', 'Test'], loc=0)"
      ],
      "execution_count": 0,
      "outputs": []
    },
    {
      "cell_type": "code",
      "metadata": {
        "id": "5V-x1ZZwG2S-",
        "colab_type": "code",
        "colab": {}
      },
      "source": [
        "from keras import layers, models\n",
        "\n",
        "class ANN(models.Sequential):\n",
        "  def __init__(self, Nin, Nh, Nout):\n",
        "    super().__init__()\n",
        "    self.add(layers.Dense(Nh, activation='relu', input_shape=(Nin,)))\n",
        "    self.add(layers.Dense(Nout, activation='softmax'))\n",
        "    # self.complie(loss='categorical_crossentropy', optimizer='adam', metrics=['accuracy'])"
      ],
      "execution_count": 0,
      "outputs": []
    },
    {
      "cell_type": "code",
      "metadata": {
        "id": "6i1OmMh0LOCZ",
        "colab_type": "code",
        "colab": {
          "base_uri": "https://localhost:8080/",
          "height": 204
        },
        "outputId": "3ffa4f6f-23df-4160-ed2b-76aaf34373eb"
      },
      "source": [
        "Nin = 784\n",
        "Nh = 100\n",
        "number_of_class = 10\n",
        "Nout = number_of_class\n",
        "\n",
        "model = ANN(Nin=Nin, Nh=Nh, Nout=Nout)\n",
        "model.compile(loss='categorical_crossentropy', optimizer='adam', metrics=['accuracy'])\n",
        "history = model.fit(X_train, Y_train, epochs=5, batch_size=100, validation_split=0.2)"
      ],
      "execution_count": 43,
      "outputs": [
        {
          "output_type": "stream",
          "text": [
            "Train on 48000 samples, validate on 12000 samples\n",
            "Epoch 1/5\n",
            "48000/48000 [==============================] - 2s 51us/step - loss: 0.3892 - acc: 0.8948 - val_loss: 0.2125 - val_acc: 0.9391\n",
            "Epoch 2/5\n",
            "48000/48000 [==============================] - 2s 43us/step - loss: 0.1844 - acc: 0.9475 - val_loss: 0.1555 - val_acc: 0.9583\n",
            "Epoch 3/5\n",
            "48000/48000 [==============================] - 2s 44us/step - loss: 0.1359 - acc: 0.9619 - val_loss: 0.1365 - val_acc: 0.9593\n",
            "Epoch 4/5\n",
            "48000/48000 [==============================] - 2s 46us/step - loss: 0.1071 - acc: 0.9699 - val_loss: 0.1175 - val_acc: 0.9655\n",
            "Epoch 5/5\n",
            "48000/48000 [==============================] - 2s 46us/step - loss: 0.0874 - acc: 0.9747 - val_loss: 0.1075 - val_acc: 0.9690\n"
          ],
          "name": "stdout"
        }
      ]
    },
    {
      "cell_type": "code",
      "metadata": {
        "id": "oStqo74qMc-O",
        "colab_type": "code",
        "colab": {
          "base_uri": "https://localhost:8080/",
          "height": 51
        },
        "outputId": "c114b577-94ed-4ffb-9d3f-594ee829ae83"
      },
      "source": [
        "performance_test = model.evaluate(X_test, Y_test, batch_size=100)\n",
        "print('Test Loss and Accuracy -> {:.2f}, {:2f}'.format(*performance_test))"
      ],
      "execution_count": 44,
      "outputs": [
        {
          "output_type": "stream",
          "text": [
            "10000/10000 [==============================] - 0s 17us/step\n",
            "Test Loss and Accuracy -> 0.10, 0.971100\n"
          ],
          "name": "stdout"
        }
      ]
    },
    {
      "cell_type": "code",
      "metadata": {
        "id": "5HKecJr7PleS",
        "colab_type": "code",
        "colab": {
          "base_uri": "https://localhost:8080/",
          "height": 295
        },
        "outputId": "c0959121-8c1f-4bce-a219-a9b7c34988a7"
      },
      "source": [
        "plot_loss(history)\n",
        "plt.show()"
      ],
      "execution_count": 46,
      "outputs": [
        {
          "output_type": "display_data",
          "data": {
            "image/png": "[encoded data removed]",
            "text/plain": [
              "<Figure size 432x288 with 1 Axes>"
            ]
          },
          "metadata": {
            "tags": []
          }
        }
      ]
    },
    {
      "cell_type": "code",
      "metadata": {
        "id": "COPn_-twQQWR",
        "colab_type": "code",
        "colab": {
          "base_uri": "https://localhost:8080/",
          "height": 295
        },
        "outputId": "4e8156dc-98ec-4cb5-8740-4065f4cfcbce"
      },
      "source": [
        "plot_acc(history)\n",
        "plt.show()"
      ],
      "execution_count": 47,
      "outputs": [
        {
          "output_type": "display_data",
          "data": {
            "image/png": "[encoded data removed]",
            "text/plain": [
              "<Figure size 432x288 with 1 Axes>"
            ]
          },
          "metadata": {
            "tags": []
          }
        }
      ]
    }
  ]
}