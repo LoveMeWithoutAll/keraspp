{
  "nbformat": 4,
  "nbformat_minor": 0,
  "metadata": {
    "colab": {
      "name": "DNN-classification.ipynb",
      "provenance": [],
      "authorship_tag": "ABX9TyP+umtrED1O9rlMEEjNFDc0",
      "include_colab_link": true
    },
    "kernelspec": {
      "name": "python3",
      "display_name": "Python 3"
    },
    "accelerator": "TPU"
  },
  "cells": [
    {
      "cell_type": "markdown",
      "metadata": {
        "id": "view-in-github",
        "colab_type": "text"
      },
      "source": [
        "<a href=\"https://colab.research.google.com/github/LoveMeWithoutAll/keraspp/blob/feature%2Fch03/study/DNN_classification.ipynb\" target=\"_parent\"><img src=\"https://colab.research.google.com/assets/colab-badge.svg\" alt=\"Open In Colab\"/></a>"
      ]
    },
    {
      "cell_type": "code",
      "metadata": {
        "id": "AWUvVF_7P6y7",
        "colab_type": "code",
        "colab": {}
      },
      "source": [
        "Nin = 784\n",
        "Nh_l = [100, 50]\n",
        "number_of_class = 10\n",
        "Nout = number_of_class"
      ],
      "execution_count": 0,
      "outputs": []
    },
    {
      "cell_type": "code",
      "metadata": {
        "id": "3FBGQ-sxWWai",
        "colab_type": "code",
        "colab": {
          "base_uri": "https://localhost:8080/",
          "height": 34
        },
        "outputId": "55e77084-ff40-4bc6-bb61-a91afc673cb0"
      },
      "source": [
        "from keras import layers, models\n",
        "\n",
        "class DNN(models.Sequential):\n",
        "  def __init__(self, Nin, Nh, Nout):\n",
        "    super().__init__()\n",
        "    self.add(layers.Dense(Nh_l[0], activation='relu', input_shape=(Nin,), name='Hidden-1'))\n",
        "    self.add(layers.Dense(Nh_l[1], activation='relu', name='Hidden-2'))\n",
        "    self.add(layers.Dense(Nout, activation='softmax'))\n",
        "    self.compile(loss='categorical_crossentropy', optimizer='adam', metrics=['accuracy'])"
      ],
      "execution_count": 2,
      "outputs": [
        {
          "output_type": "stream",
          "text": [
            "Using TensorFlow backend.\n"
          ],
          "name": "stderr"
        }
      ]
    },
    {
      "cell_type": "code",
      "metadata": {
        "id": "RaurpXwUWa1E",
        "colab_type": "code",
        "colab": {}
      },
      "source": [
        "from keras import datasets\n",
        "from keras.utils import np_utils\n",
        "\n",
        "(X_train, y_train), (X_test, y_test) = datasets.mnist.load_data()\n",
        "y_train = np_utils.to_categorical(y_train)\n",
        "y_test = np_utils.to_categorical(y_test)\n",
        "L, W, H = X_train.shape\n",
        "X_train = X_train.reshape(-1, W * H)\n",
        "X_test = X_test.reshape(-1, W * H)\n",
        "X_train = X_train / 255.0\n",
        "X_test = X_test / 255.0"
      ],
      "execution_count": 0,
      "outputs": []
    },
    {
      "cell_type": "code",
      "metadata": {
        "id": "LXHiBE2LYq04",
        "colab_type": "code",
        "colab": {
          "base_uri": "https://localhost:8080/",
          "height": 887
        },
        "outputId": "29e00d45-0e87-44f0-837b-b26cc3589b04"
      },
      "source": [
        "model = DNN(Nin=Nin, Nh=Nh_l, Nout=Nout)\n",
        "history = model.fit(X_train, y_train, epochs=10, batch_size=100, validation_split=0.2)"
      ],
      "execution_count": 4,
      "outputs": [
        {
          "output_type": "stream",
          "text": [
            "WARNING:tensorflow:From /usr/local/lib/python3.6/dist-packages/keras/backend/tensorflow_backend.py:66: The name tf.get_default_graph is deprecated. Please use tf.compat.v1.get_default_graph instead.\n",
            "\n",
            "WARNING:tensorflow:From /usr/local/lib/python3.6/dist-packages/keras/backend/tensorflow_backend.py:541: The name tf.placeholder is deprecated. Please use tf.compat.v1.placeholder instead.\n",
            "\n",
            "WARNING:tensorflow:From /usr/local/lib/python3.6/dist-packages/keras/backend/tensorflow_backend.py:4432: The name tf.random_uniform is deprecated. Please use tf.random.uniform instead.\n",
            "\n",
            "WARNING:tensorflow:From /usr/local/lib/python3.6/dist-packages/keras/optimizers.py:793: The name tf.train.Optimizer is deprecated. Please use tf.compat.v1.train.Optimizer instead.\n",
            "\n",
            "WARNING:tensorflow:From /usr/local/lib/python3.6/dist-packages/keras/backend/tensorflow_backend.py:3576: The name tf.log is deprecated. Please use tf.math.log instead.\n",
            "\n",
            "WARNING:tensorflow:From /usr/local/lib/python3.6/dist-packages/tensorflow_core/python/ops/math_grad.py:1424: where (from tensorflow.python.ops.array_ops) is deprecated and will be removed in a future version.\n",
            "Instructions for updating:\n",
            "Use tf.where in 2.0, which has the same broadcast rule as np.where\n",
            "WARNING:tensorflow:From /usr/local/lib/python3.6/dist-packages/keras/backend/tensorflow_backend.py:1033: The name tf.assign_add is deprecated. Please use tf.compat.v1.assign_add instead.\n",
            "\n",
            "WARNING:tensorflow:From /usr/local/lib/python3.6/dist-packages/keras/backend/tensorflow_backend.py:1020: The name tf.assign is deprecated. Please use tf.compat.v1.assign instead.\n",
            "\n",
            "WARNING:tensorflow:From /usr/local/lib/python3.6/dist-packages/keras/backend/tensorflow_backend.py:3005: The name tf.Session is deprecated. Please use tf.compat.v1.Session instead.\n",
            "\n",
            "Train on 48000 samples, validate on 12000 samples\n",
            "Epoch 1/10\n",
            "WARNING:tensorflow:From /usr/local/lib/python3.6/dist-packages/keras/backend/tensorflow_backend.py:190: The name tf.get_default_session is deprecated. Please use tf.compat.v1.get_default_session instead.\n",
            "\n",
            "WARNING:tensorflow:From /usr/local/lib/python3.6/dist-packages/keras/backend/tensorflow_backend.py:197: The name tf.ConfigProto is deprecated. Please use tf.compat.v1.ConfigProto instead.\n",
            "\n",
            "WARNING:tensorflow:From /usr/local/lib/python3.6/dist-packages/keras/backend/tensorflow_backend.py:207: The name tf.global_variables is deprecated. Please use tf.compat.v1.global_variables instead.\n",
            "\n",
            "WARNING:tensorflow:From /usr/local/lib/python3.6/dist-packages/keras/backend/tensorflow_backend.py:216: The name tf.is_variable_initialized is deprecated. Please use tf.compat.v1.is_variable_initialized instead.\n",
            "\n",
            "WARNING:tensorflow:From /usr/local/lib/python3.6/dist-packages/keras/backend/tensorflow_backend.py:223: The name tf.variables_initializer is deprecated. Please use tf.compat.v1.variables_initializer instead.\n",
            "\n",
            "48000/48000 [==============================] - 3s 60us/step - loss: 0.3911 - acc: 0.8918 - val_loss: 0.1928 - val_acc: 0.9431\n",
            "Epoch 2/10\n",
            "48000/48000 [==============================] - 2s 49us/step - loss: 0.1641 - acc: 0.9514 - val_loss: 0.1440 - val_acc: 0.9583\n",
            "Epoch 3/10\n",
            "48000/48000 [==============================] - 2s 49us/step - loss: 0.1197 - acc: 0.9650 - val_loss: 0.1219 - val_acc: 0.9638\n",
            "Epoch 4/10\n",
            "48000/48000 [==============================] - 2s 50us/step - loss: 0.0926 - acc: 0.9724 - val_loss: 0.1061 - val_acc: 0.9675\n",
            "Epoch 5/10\n",
            "48000/48000 [==============================] - 2s 52us/step - loss: 0.0751 - acc: 0.9775 - val_loss: 0.1041 - val_acc: 0.9668\n",
            "Epoch 6/10\n",
            "48000/48000 [==============================] - 2s 51us/step - loss: 0.0612 - acc: 0.9817 - val_loss: 0.1019 - val_acc: 0.9694\n",
            "Epoch 7/10\n",
            "48000/48000 [==============================] - 3s 53us/step - loss: 0.0511 - acc: 0.9847 - val_loss: 0.0934 - val_acc: 0.9730\n",
            "Epoch 8/10\n",
            "48000/48000 [==============================] - 2s 51us/step - loss: 0.0441 - acc: 0.9863 - val_loss: 0.1036 - val_acc: 0.9703\n",
            "Epoch 9/10\n",
            "48000/48000 [==============================] - 2s 48us/step - loss: 0.0349 - acc: 0.9893 - val_loss: 0.1071 - val_acc: 0.9687\n",
            "Epoch 10/10\n",
            "48000/48000 [==============================] - 2s 48us/step - loss: 0.0308 - acc: 0.9905 - val_loss: 0.0942 - val_acc: 0.9731\n"
          ],
          "name": "stdout"
        }
      ]
    },
    {
      "cell_type": "code",
      "metadata": {
        "id": "mXnCabPoZJuY",
        "colab_type": "code",
        "colab": {
          "base_uri": "https://localhost:8080/",
          "height": 51
        },
        "outputId": "0d26b8e1-e6ee-4588-9085-29998a113f78"
      },
      "source": [
        "performance_test = model.evaluate(X_test, y_test, batch_size=100)\n",
        "print('Test Loss and Accuracy ->', performance_test)"
      ],
      "execution_count": 5,
      "outputs": [
        {
          "output_type": "stream",
          "text": [
            "10000/10000 [==============================] - 0s 16us/step\n",
            "Test Loss and Accuracy -> [0.09010233482476906, 0.9753000062704086]\n"
          ],
          "name": "stdout"
        }
      ]
    },
    {
      "cell_type": "code",
      "metadata": {
        "id": "YYovLSSb1d6N",
        "colab_type": "code",
        "colab": {}
      },
      "source": [
        "import matplotlib.pyplot as plt\n",
        "\n",
        "def plot_acc(history, title=None):\n",
        "    # summarize history for accuracy\n",
        "    if not isinstance(history, dict):\n",
        "        history = history.history\n",
        "\n",
        "    plt.plot(history['acc'])\n",
        "    plt.plot(history['val_acc'])\n",
        "    if title is not None:\n",
        "        plt.title(title)\n",
        "    plt.ylabel('Accuracy')\n",
        "    plt.xlabel('Epoch')\n",
        "    plt.legend(['Training', 'Verification'], loc=0)\n",
        "    # plt.show()\n",
        "\n",
        "\n",
        "def plot_loss(history, title=None):\n",
        "    # summarize history for loss\n",
        "    if not isinstance(history, dict):\n",
        "        history = history.history\n",
        "\n",
        "    plt.plot(history['loss'])\n",
        "    plt.plot(history['val_loss'])\n",
        "    if title is not None:\n",
        "        plt.title(title)\n",
        "    plt.ylabel('Loss')\n",
        "    plt.xlabel('Epoch')\n",
        "    plt.legend(['Training', 'Verification'], loc=0)\n",
        "    # plt.show()"
      ],
      "execution_count": 0,
      "outputs": []
    },
    {
      "cell_type": "code",
      "metadata": {
        "id": "0JtouFb63SPH",
        "colab_type": "code",
        "colab": {
          "base_uri": "https://localhost:8080/",
          "height": 279
        },
        "outputId": "03b75f69-441f-4f91-9026-634cd7b58732"
      },
      "source": [
        "plot_acc(history)\n",
        "plt.show()"
      ],
      "execution_count": 9,
      "outputs": [
        {
          "output_type": "display_data",
          "data": {
            "image/png": "[encoded data removed]",
            "text/plain": [
              "<Figure size 432x288 with 1 Axes>"
            ]
          },
          "metadata": {
            "tags": []
          }
        }
      ]
    },
    {
      "cell_type": "code",
      "metadata": {
        "id": "NJVM6Fc13al7",
        "colab_type": "code",
        "colab": {
          "base_uri": "https://localhost:8080/",
          "height": 279
        },
        "outputId": "40d9b78c-4c53-44cc-ca64-36145e6c56b2"
      },
      "source": [
        "plot_loss(history)\n",
        "plt.show()"
      ],
      "execution_count": 10,
      "outputs": [
        {
          "output_type": "display_data",
          "data": {
            "image/png": "[encoded data removed]",
            "text/plain": [
              "<Figure size 432x288 with 1 Axes>"
            ]
          },
          "metadata": {
            "tags": []
          }
        }
      ]
    }
  ]
}